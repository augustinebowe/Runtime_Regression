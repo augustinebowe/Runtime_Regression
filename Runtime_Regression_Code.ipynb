{
 "cells": [
  {
   "cell_type": "code",
   "execution_count": 1,
   "id": "ad36ee13",
   "metadata": {},
   "outputs": [],
   "source": [
    "from bs4 import BeautifulSoup as bs\n",
    "import requests\n",
    "import pandas as pd\n",
    "import pickle\n",
    "import datetime"
   ]
  },
  {
   "cell_type": "code",
   "execution_count": 24,
   "id": "2527367a",
   "metadata": {},
   "outputs": [],
   "source": [
    "year_list = [2015,2016,2017,2018,2019]\n",
    "link_list = []\n",
    "for year in year_list:\n",
    "    url = f\"https://www.boxofficemojo.com/year/{year}/?grossesOption=calendarGrosses\"\n",
    "    response = requests.get(url)\n",
    "    status = response.status_code\n",
    "    if status == 200:\n",
    "        page = response.text\n",
    "        soup = bs(page)\n",
    "        table_html = soup.find(\"table\")\n",
    "        all_links = table_html.find_all('a')\n",
    "        for link in all_links:\n",
    "            if link.get(\"href\")[0] == \"/\":\n",
    "                link_list.append(link.get('href'))\n",
    "        \n",
    "    else:\n",
    "        print(f\"Received status code {status}\")"
   ]
  },
  {
   "cell_type": "code",
   "execution_count": 43,
   "id": "03390bd9",
   "metadata": {},
   "outputs": [],
   "source": [
    "\n",
    "clean_links = [link.split(\"?\")[0] for link in link_list]\n",
    "with open('clean_links.pkl', 'wb') as f:\n",
    "    pickle.dump(clean_links, f)"
   ]
  },
  {
   "cell_type": "code",
   "execution_count": 86,
   "id": "f2444f93",
   "metadata": {},
   "outputs": [],
   "source": [
    "headers = ['movie title', 'domestic total gross', 'international gross', 'worldwide gross', 'genres',\n",
    "           'runtime (mins)', 'rating', 'release date', 'widest release', 'budget', 'distributor']"
   ]
  },
  {
   "cell_type": "code",
   "execution_count": 96,
   "id": "d1b804ff",
   "metadata": {},
   "outputs": [],
   "source": [
    "import re\n",
    "def get_movie_value(soup, field_name):\n",
    "    \n",
    "    '''Grab a value from Box Office Mojo HTML\n",
    "    \n",
    "    Takes a string attribute of a movie on the page and returns the string in\n",
    "    the next sibling object (the value for that attribute) or None if nothing is found.\n",
    "    '''\n",
    "    \n",
    "    obj = soup.find(text=re.compile(field_name))\n",
    "    \n",
    "    if not obj: \n",
    "        return None\n",
    "    \n",
    "    # this works for most of the values\n",
    "    next_element = obj.findNext()\n",
    "    \n",
    "    if next_element:\n",
    "        return next_element.text \n",
    "    else:\n",
    "        return None"
   ]
  },
  {
   "cell_type": "markdown",
   "id": "59711e07",
   "metadata": {},
   "source": [
    "get_movie_value and get_movie_boxoffice functions are taken from Metis Course materials"
   ]
  },
  {
   "cell_type": "code",
   "execution_count": 109,
   "id": "3ce9611f",
   "metadata": {},
   "outputs": [],
   "source": [
    "def get_movie_boxoffice(soup,ind):\n",
    "    \n",
    "    try:\n",
    "        return soup.find(class_='mojo-performance-summary-table').find_all('span', class_= \"money\")[ind].text\n",
    "    except:\n",
    "        return None\n",
    "        \n",
    "    "
   ]
  },
  {
   "cell_type": "code",
   "execution_count": 89,
   "id": "3e3addf4",
   "metadata": {},
   "outputs": [
    {
     "data": {
      "text/plain": [
       "'/release/rl2691925505/'"
      ]
     },
     "execution_count": 89,
     "metadata": {},
     "output_type": "execute_result"
    }
   ],
   "source": [
    "test_links = [clean_links[1], clean_links[2], clean_links[3]]"
   ]
  },
  {
   "cell_type": "code",
   "execution_count": 113,
   "id": "d58c8e25",
   "metadata": {},
   "outputs": [
    {
     "name": "stdout",
     "output_type": "stream",
     "text": [
      "Finished\n"
     ]
    }
   ],
   "source": [
    "movie_dicts = []\n",
    "for link in clean_links:\n",
    "    movie_url = 'https://www.boxofficemojo.com'+link\n",
    "    response = requests.get(movie_url)\n",
    "    status = response.status_code\n",
    "    if status == 200:\n",
    "        page = response.text\n",
    "        soup = bs(page)\n",
    "        title_str = soup.find('title').text\n",
    "        title = title_str.split('-')[0].strip()\n",
    "        dom_gross = get_movie_boxoffice(soup,0)\n",
    "        int_gross = get_movie_boxoffice(soup,1)\n",
    "        ww_gross = get_movie_boxoffice(soup,2)\n",
    "        genres = get_movie_value(soup,'Genres')\n",
    "        genres = genres.replace(\"\\n\",'').replace('            ', ' ')\n",
    "        runtime = get_movie_value(soup,'Running Time')\n",
    "        rating = get_movie_value(soup,'MPAA')\n",
    "        release_date = get_movie_value(soup,'Release Date')\n",
    "        release_date = release_date.split('\\n')[0]\n",
    "        widest = get_movie_value(soup,'Widest Release')\n",
    "        budget = get_movie_value(soup,'Budget')\n",
    "        distributor = soup.find(text='Distributor').findNext().text.split(\"See full\")[0]\n",
    "        movie_dict = dict(zip(headers, [title,\n",
    "                                dom_gross,\n",
    "                                int_gross,\n",
    "                                ww_gross,\n",
    "                                genres,\n",
    "                                runtime,\n",
    "                                rating,\n",
    "                                release_date,\n",
    "                                widest,\n",
    "                                budget,\n",
    "                                distributor]))\n",
    "        movie_dicts.append(movie_dict)\n",
    "    else:\n",
    "        print(link + ' error' + status)\n",
    "print('Finished')"
   ]
  },
  {
   "cell_type": "code",
   "execution_count": 182,
   "id": "8b1829c6",
   "metadata": {},
   "outputs": [
    {
     "ename": "NameError",
     "evalue": "name 'movie_dicts' is not defined",
     "output_type": "error",
     "traceback": [
      "\u001b[0;31m---------------------------------------------------------------------------\u001b[0m",
      "\u001b[0;31mNameError\u001b[0m                                 Traceback (most recent call last)",
      "\u001b[0;32m/var/folders/6l/hl1r0ft932qd3p4vqcjhyw7r0000gn/T/ipykernel_23161/522526069.py\u001b[0m in \u001b[0;36m<module>\u001b[0;34m\u001b[0m\n\u001b[0;32m----> 1\u001b[0;31m \u001b[0mdf\u001b[0m \u001b[0;34m=\u001b[0m \u001b[0mpd\u001b[0m\u001b[0;34m.\u001b[0m\u001b[0mDataFrame\u001b[0m\u001b[0;34m(\u001b[0m\u001b[0mmovie_dicts\u001b[0m\u001b[0;34m)\u001b[0m\u001b[0;34m\u001b[0m\u001b[0;34m\u001b[0m\u001b[0m\n\u001b[0m\u001b[1;32m      2\u001b[0m \u001b[0mdf\u001b[0m\u001b[0;34m.\u001b[0m\u001b[0msample\u001b[0m\u001b[0;34m(\u001b[0m\u001b[0;36m20\u001b[0m\u001b[0;34m)\u001b[0m\u001b[0;34m\u001b[0m\u001b[0;34m\u001b[0m\u001b[0m\n",
      "\u001b[0;31mNameError\u001b[0m: name 'movie_dicts' is not defined"
     ]
    }
   ],
   "source": [
    "df = pd.DataFrame(movie_dicts)\n",
    "df.sample(20)"
   ]
  },
  {
   "cell_type": "code",
   "execution_count": 116,
   "id": "4f2ced6d",
   "metadata": {},
   "outputs": [],
   "source": [
    "with open('BOmojo.pkl', 'wb') as f:\n",
    "    pickle.dump(df, f)"
   ]
  },
  {
   "cell_type": "code",
   "execution_count": 231,
   "id": "6b687fa6",
   "metadata": {},
   "outputs": [],
   "source": [
    "with open('BOmojo.pkl', 'rb') as f:\n",
    "    movies_df = pickle.load(f)"
   ]
  },
  {
   "cell_type": "code",
   "execution_count": 236,
   "id": "a2fc2726",
   "metadata": {},
   "outputs": [],
   "source": [
    "def action(genres):\n",
    "    if 'action' in genres.lower():\n",
    "        return 1\n",
    "    else:\n",
    "        return 0"
   ]
  },
  {
   "cell_type": "code",
   "execution_count": 4,
   "id": "7787a311",
   "metadata": {},
   "outputs": [],
   "source": [
    "def comedy(genres):\n",
    "    if 'comedy' in genres.lower():\n",
    "        return 1\n",
    "    else:\n",
    "        return 0"
   ]
  },
  {
   "cell_type": "code",
   "execution_count": 279,
   "id": "8b9ed4ee",
   "metadata": {},
   "outputs": [
    {
     "data": {
      "text/html": [
       "<div>\n",
       "<style scoped>\n",
       "    .dataframe tbody tr th:only-of-type {\n",
       "        vertical-align: middle;\n",
       "    }\n",
       "\n",
       "    .dataframe tbody tr th {\n",
       "        vertical-align: top;\n",
       "    }\n",
       "\n",
       "    .dataframe thead th {\n",
       "        text-align: right;\n",
       "    }\n",
       "</style>\n",
       "<table border=\"1\" class=\"dataframe\">\n",
       "  <thead>\n",
       "    <tr style=\"text-align: right;\">\n",
       "      <th></th>\n",
       "      <th>movie title</th>\n",
       "      <th>domestic total gross</th>\n",
       "      <th>international gross</th>\n",
       "      <th>worldwide gross</th>\n",
       "      <th>genres</th>\n",
       "      <th>runtime (mins)</th>\n",
       "      <th>rating</th>\n",
       "      <th>release date</th>\n",
       "      <th>widest release</th>\n",
       "      <th>budget</th>\n",
       "      <th>distributor</th>\n",
       "      <th>action</th>\n",
       "      <th>release_month</th>\n",
       "    </tr>\n",
       "  </thead>\n",
       "  <tbody>\n",
       "    <tr>\n",
       "      <th>0</th>\n",
       "      <td>Jurassic World</td>\n",
       "      <td>652270625</td>\n",
       "      <td>1018130012</td>\n",
       "      <td>1.670401e+09</td>\n",
       "      <td>Action Adventure Sci-Fi</td>\n",
       "      <td>124.0</td>\n",
       "      <td>PG-13</td>\n",
       "      <td>Jun 12, 2015</td>\n",
       "      <td>4291</td>\n",
       "      <td>150000000.0</td>\n",
       "      <td>Universal Pictures</td>\n",
       "      <td>1</td>\n",
       "      <td>jun</td>\n",
       "    </tr>\n",
       "    <tr>\n",
       "      <th>1</th>\n",
       "      <td>Star Wars: Episode VII</td>\n",
       "      <td>936662225</td>\n",
       "      <td>1131561399</td>\n",
       "      <td>2.068224e+09</td>\n",
       "      <td>Action Adventure Sci-Fi</td>\n",
       "      <td>138.0</td>\n",
       "      <td>PG-13</td>\n",
       "      <td>Dec 18, 2015</td>\n",
       "      <td>4134</td>\n",
       "      <td>245000000.0</td>\n",
       "      <td>Walt Disney Studios Motion Pictures</td>\n",
       "      <td>1</td>\n",
       "      <td>dec</td>\n",
       "    </tr>\n",
       "    <tr>\n",
       "      <th>2</th>\n",
       "      <td>Avengers: Age of Ultron</td>\n",
       "      <td>459005868</td>\n",
       "      <td>943800000</td>\n",
       "      <td>1.402806e+09</td>\n",
       "      <td>Action Adventure Sci-Fi</td>\n",
       "      <td>141.0</td>\n",
       "      <td>PG-13</td>\n",
       "      <td>May 1, 2015</td>\n",
       "      <td>4276</td>\n",
       "      <td>250000000.0</td>\n",
       "      <td>Walt Disney Studios Motion Pictures</td>\n",
       "      <td>1</td>\n",
       "      <td>may</td>\n",
       "    </tr>\n",
       "    <tr>\n",
       "      <th>3</th>\n",
       "      <td>Inside Out</td>\n",
       "      <td>356461711</td>\n",
       "      <td>501149463</td>\n",
       "      <td>8.576112e+08</td>\n",
       "      <td>Adventure Animation Comedy Drama Family Fantasy</td>\n",
       "      <td>95.0</td>\n",
       "      <td>PG</td>\n",
       "      <td>Jun 19, 2015</td>\n",
       "      <td>4158</td>\n",
       "      <td>175000000.0</td>\n",
       "      <td>Walt Disney Studios Motion Pictures</td>\n",
       "      <td>0</td>\n",
       "      <td>jun</td>\n",
       "    </tr>\n",
       "    <tr>\n",
       "      <th>4</th>\n",
       "      <td>Furious 7</td>\n",
       "      <td>353007020</td>\n",
       "      <td>1162040651</td>\n",
       "      <td>1.515048e+09</td>\n",
       "      <td>Action Crime Thriller</td>\n",
       "      <td>137.0</td>\n",
       "      <td>PG-13</td>\n",
       "      <td>Apr 3, 2015</td>\n",
       "      <td>4022</td>\n",
       "      <td>190000000.0</td>\n",
       "      <td>Universal Pictures</td>\n",
       "      <td>1</td>\n",
       "      <td>apr</td>\n",
       "    </tr>\n",
       "    <tr>\n",
       "      <th>5</th>\n",
       "      <td>American Sniper</td>\n",
       "      <td>350126372</td>\n",
       "      <td>197300000</td>\n",
       "      <td>5.474264e+08</td>\n",
       "      <td>Action Biography Drama War</td>\n",
       "      <td>133.0</td>\n",
       "      <td>R</td>\n",
       "      <td>Dec 25, 2014 (Jan 16, 2015)</td>\n",
       "      <td>3885</td>\n",
       "      <td>58800000.0</td>\n",
       "      <td>Warner Bros.</td>\n",
       "      <td>1</td>\n",
       "      <td>dec</td>\n",
       "    </tr>\n",
       "    <tr>\n",
       "      <th>6</th>\n",
       "      <td>Minions</td>\n",
       "      <td>336045770</td>\n",
       "      <td>823352627</td>\n",
       "      <td>1.159398e+09</td>\n",
       "      <td>Adventure Animation Comedy Crime Family Sci-Fi</td>\n",
       "      <td>91.0</td>\n",
       "      <td>PG</td>\n",
       "      <td>Jul 10, 2015</td>\n",
       "      <td>4311</td>\n",
       "      <td>74000000.0</td>\n",
       "      <td>Universal Pictures</td>\n",
       "      <td>0</td>\n",
       "      <td>jul</td>\n",
       "    </tr>\n",
       "    <tr>\n",
       "      <th>7</th>\n",
       "      <td>The Hunger Games: Mockingjay</td>\n",
       "      <td>281723902</td>\n",
       "      <td>376620235</td>\n",
       "      <td>6.583441e+08</td>\n",
       "      <td>Action Adventure Sci-Fi Thriller</td>\n",
       "      <td>137.0</td>\n",
       "      <td>PG-13</td>\n",
       "      <td>Nov 20, 2015</td>\n",
       "      <td>4175</td>\n",
       "      <td>160000000.0</td>\n",
       "      <td>Lionsgate</td>\n",
       "      <td>1</td>\n",
       "      <td>nov</td>\n",
       "    </tr>\n",
       "    <tr>\n",
       "      <th>8</th>\n",
       "      <td>The Martian</td>\n",
       "      <td>228433663</td>\n",
       "      <td>401728227</td>\n",
       "      <td>6.301619e+08</td>\n",
       "      <td>Adventure Drama Sci-Fi</td>\n",
       "      <td>144.0</td>\n",
       "      <td>PG-13</td>\n",
       "      <td>Oct 2, 2015</td>\n",
       "      <td>3854</td>\n",
       "      <td>108000000.0</td>\n",
       "      <td>Twentieth Century Fox</td>\n",
       "      <td>0</td>\n",
       "      <td>oct</td>\n",
       "    </tr>\n",
       "    <tr>\n",
       "      <th>9</th>\n",
       "      <td>Cinderella</td>\n",
       "      <td>201151353</td>\n",
       "      <td>341200000</td>\n",
       "      <td>5.423514e+08</td>\n",
       "      <td>Adventure Drama Family Fantasy Romance</td>\n",
       "      <td>105.0</td>\n",
       "      <td>PG</td>\n",
       "      <td>Mar 13, 2015</td>\n",
       "      <td>3848</td>\n",
       "      <td>95000000.0</td>\n",
       "      <td>Walt Disney Studios Motion Pictures</td>\n",
       "      <td>0</td>\n",
       "      <td>mar</td>\n",
       "    </tr>\n",
       "  </tbody>\n",
       "</table>\n",
       "</div>"
      ],
      "text/plain": [
       "                    movie title  domestic total gross  international gross  \\\n",
       "0                Jurassic World             652270625           1018130012   \n",
       "1        Star Wars: Episode VII             936662225           1131561399   \n",
       "2       Avengers: Age of Ultron             459005868            943800000   \n",
       "3                    Inside Out             356461711            501149463   \n",
       "4                     Furious 7             353007020           1162040651   \n",
       "5               American Sniper             350126372            197300000   \n",
       "6                       Minions             336045770            823352627   \n",
       "7  The Hunger Games: Mockingjay             281723902            376620235   \n",
       "8                   The Martian             228433663            401728227   \n",
       "9                    Cinderella             201151353            341200000   \n",
       "\n",
       "   worldwide gross                                           genres  \\\n",
       "0     1.670401e+09                          Action Adventure Sci-Fi   \n",
       "1     2.068224e+09                          Action Adventure Sci-Fi   \n",
       "2     1.402806e+09                          Action Adventure Sci-Fi   \n",
       "3     8.576112e+08  Adventure Animation Comedy Drama Family Fantasy   \n",
       "4     1.515048e+09                            Action Crime Thriller   \n",
       "5     5.474264e+08                       Action Biography Drama War   \n",
       "6     1.159398e+09   Adventure Animation Comedy Crime Family Sci-Fi   \n",
       "7     6.583441e+08                 Action Adventure Sci-Fi Thriller   \n",
       "8     6.301619e+08                           Adventure Drama Sci-Fi   \n",
       "9     5.423514e+08           Adventure Drama Family Fantasy Romance   \n",
       "\n",
       "   runtime (mins) rating                 release date  widest release  \\\n",
       "0           124.0  PG-13                 Jun 12, 2015            4291   \n",
       "1           138.0  PG-13                 Dec 18, 2015            4134   \n",
       "2           141.0  PG-13                  May 1, 2015            4276   \n",
       "3            95.0     PG                 Jun 19, 2015            4158   \n",
       "4           137.0  PG-13                  Apr 3, 2015            4022   \n",
       "5           133.0      R  Dec 25, 2014 (Jan 16, 2015)            3885   \n",
       "6            91.0     PG                 Jul 10, 2015            4311   \n",
       "7           137.0  PG-13                 Nov 20, 2015            4175   \n",
       "8           144.0  PG-13                  Oct 2, 2015            3854   \n",
       "9           105.0     PG                 Mar 13, 2015            3848   \n",
       "\n",
       "        budget                          distributor  action release_month  \n",
       "0  150000000.0                   Universal Pictures       1           jun  \n",
       "1  245000000.0  Walt Disney Studios Motion Pictures       1           dec  \n",
       "2  250000000.0  Walt Disney Studios Motion Pictures       1           may  \n",
       "3  175000000.0  Walt Disney Studios Motion Pictures       0           jun  \n",
       "4  190000000.0                   Universal Pictures       1           apr  \n",
       "5   58800000.0                         Warner Bros.       1           dec  \n",
       "6   74000000.0                   Universal Pictures       0           jul  \n",
       "7  160000000.0                            Lionsgate       1           nov  \n",
       "8  108000000.0                Twentieth Century Fox       0           oct  \n",
       "9   95000000.0  Walt Disney Studios Motion Pictures       0           mar  "
      ]
     },
     "execution_count": 279,
     "metadata": {},
     "output_type": "execute_result"
    }
   ],
   "source": [
    "movies_df.head(10)"
   ]
  },
  {
   "cell_type": "code",
   "execution_count": 238,
   "id": "9b35bba1",
   "metadata": {},
   "outputs": [
    {
     "data": {
      "text/html": [
       "<div>\n",
       "<style scoped>\n",
       "    .dataframe tbody tr th:only-of-type {\n",
       "        vertical-align: middle;\n",
       "    }\n",
       "\n",
       "    .dataframe tbody tr th {\n",
       "        vertical-align: top;\n",
       "    }\n",
       "\n",
       "    .dataframe thead th {\n",
       "        text-align: right;\n",
       "    }\n",
       "</style>\n",
       "<table border=\"1\" class=\"dataframe\">\n",
       "  <thead>\n",
       "    <tr style=\"text-align: right;\">\n",
       "      <th></th>\n",
       "      <th>movie title</th>\n",
       "      <th>domestic total gross</th>\n",
       "      <th>international gross</th>\n",
       "      <th>worldwide gross</th>\n",
       "      <th>genres</th>\n",
       "      <th>runtime (mins)</th>\n",
       "      <th>rating</th>\n",
       "      <th>release date</th>\n",
       "      <th>widest release</th>\n",
       "      <th>budget</th>\n",
       "      <th>distributor</th>\n",
       "      <th>action</th>\n",
       "    </tr>\n",
       "  </thead>\n",
       "  <tbody>\n",
       "    <tr>\n",
       "      <th>0</th>\n",
       "      <td>Jurassic World</td>\n",
       "      <td>$652,270,625</td>\n",
       "      <td>$1,018,130,012</td>\n",
       "      <td>$1,670,400,637</td>\n",
       "      <td>Action Adventure Sci-Fi</td>\n",
       "      <td>2 hr 4 min</td>\n",
       "      <td>PG-13</td>\n",
       "      <td>Jun 12, 2015</td>\n",
       "      <td>4,291 theaters</td>\n",
       "      <td>$150,000,000</td>\n",
       "      <td>Universal Pictures</td>\n",
       "      <td>1</td>\n",
       "    </tr>\n",
       "    <tr>\n",
       "      <th>1</th>\n",
       "      <td>Star Wars: Episode VII</td>\n",
       "      <td>$936,662,225</td>\n",
       "      <td>$1,131,561,399</td>\n",
       "      <td>$2,068,223,624</td>\n",
       "      <td>Action Adventure Sci-Fi</td>\n",
       "      <td>2 hr 18 min</td>\n",
       "      <td>PG-13</td>\n",
       "      <td>Dec 18, 2015</td>\n",
       "      <td>4,134 theaters</td>\n",
       "      <td>$245,000,000</td>\n",
       "      <td>Walt Disney Studios Motion Pictures</td>\n",
       "      <td>1</td>\n",
       "    </tr>\n",
       "    <tr>\n",
       "      <th>2</th>\n",
       "      <td>Avengers: Age of Ultron</td>\n",
       "      <td>$459,005,868</td>\n",
       "      <td>$943,800,000</td>\n",
       "      <td>$1,402,805,868</td>\n",
       "      <td>Action Adventure Sci-Fi</td>\n",
       "      <td>2 hr 21 min</td>\n",
       "      <td>PG-13</td>\n",
       "      <td>May 1, 2015</td>\n",
       "      <td>4,276 theaters</td>\n",
       "      <td>$250,000,000</td>\n",
       "      <td>Walt Disney Studios Motion Pictures</td>\n",
       "      <td>1</td>\n",
       "    </tr>\n",
       "    <tr>\n",
       "      <th>3</th>\n",
       "      <td>Inside Out</td>\n",
       "      <td>$356,461,711</td>\n",
       "      <td>$501,149,463</td>\n",
       "      <td>$857,611,174</td>\n",
       "      <td>Adventure Animation Comedy Drama Family Fantasy</td>\n",
       "      <td>1 hr 35 min</td>\n",
       "      <td>PG</td>\n",
       "      <td>Jun 19, 2015</td>\n",
       "      <td>4,158 theaters</td>\n",
       "      <td>$175,000,000</td>\n",
       "      <td>Walt Disney Studios Motion Pictures</td>\n",
       "      <td>0</td>\n",
       "    </tr>\n",
       "    <tr>\n",
       "      <th>4</th>\n",
       "      <td>Furious 7</td>\n",
       "      <td>$353,007,020</td>\n",
       "      <td>$1,162,040,651</td>\n",
       "      <td>$1,515,047,671</td>\n",
       "      <td>Action Crime Thriller</td>\n",
       "      <td>2 hr 17 min</td>\n",
       "      <td>PG-13</td>\n",
       "      <td>Apr 3, 2015</td>\n",
       "      <td>4,022 theaters</td>\n",
       "      <td>$190,000,000</td>\n",
       "      <td>Universal Pictures</td>\n",
       "      <td>1</td>\n",
       "    </tr>\n",
       "  </tbody>\n",
       "</table>\n",
       "</div>"
      ],
      "text/plain": [
       "               movie title domestic total gross international gross  \\\n",
       "0           Jurassic World         $652,270,625      $1,018,130,012   \n",
       "1   Star Wars: Episode VII         $936,662,225      $1,131,561,399   \n",
       "2  Avengers: Age of Ultron         $459,005,868        $943,800,000   \n",
       "3               Inside Out         $356,461,711        $501,149,463   \n",
       "4                Furious 7         $353,007,020      $1,162,040,651   \n",
       "\n",
       "  worldwide gross                                           genres  \\\n",
       "0  $1,670,400,637                          Action Adventure Sci-Fi   \n",
       "1  $2,068,223,624                          Action Adventure Sci-Fi   \n",
       "2  $1,402,805,868                          Action Adventure Sci-Fi   \n",
       "3    $857,611,174  Adventure Animation Comedy Drama Family Fantasy   \n",
       "4  $1,515,047,671                            Action Crime Thriller   \n",
       "\n",
       "  runtime (mins) rating  release date  widest release        budget  \\\n",
       "0     2 hr 4 min  PG-13  Jun 12, 2015  4,291 theaters  $150,000,000   \n",
       "1    2 hr 18 min  PG-13  Dec 18, 2015  4,134 theaters  $245,000,000   \n",
       "2    2 hr 21 min  PG-13   May 1, 2015  4,276 theaters  $250,000,000   \n",
       "3    1 hr 35 min     PG  Jun 19, 2015  4,158 theaters  $175,000,000   \n",
       "4    2 hr 17 min  PG-13   Apr 3, 2015  4,022 theaters  $190,000,000   \n",
       "\n",
       "                           distributor  action  \n",
       "0                   Universal Pictures       1  \n",
       "1  Walt Disney Studios Motion Pictures       1  \n",
       "2  Walt Disney Studios Motion Pictures       1  \n",
       "3  Walt Disney Studios Motion Pictures       0  \n",
       "4                   Universal Pictures       1  "
      ]
     },
     "execution_count": 238,
     "metadata": {},
     "output_type": "execute_result"
    }
   ],
   "source": [
    "movies_df['action'] = movies_df['genres'].apply(action)\n",
    "movies_df.head()"
   ]
  },
  {
   "cell_type": "code",
   "execution_count": 239,
   "id": "3938af41",
   "metadata": {},
   "outputs": [],
   "source": [
    "def money_to_int(string):\n",
    "    if string == None:\n",
    "        return None\n",
    "    else:\n",
    "        return int(string.replace(',','').replace(\"$\",\"\"))"
   ]
  },
  {
   "cell_type": "markdown",
   "id": "d65bacc3",
   "metadata": {},
   "source": [
    "money_to_int function is modified from a version in Metis course materials"
   ]
  },
  {
   "cell_type": "code",
   "execution_count": 240,
   "id": "7134dabd",
   "metadata": {},
   "outputs": [],
   "source": [
    "movies_df[\"domestic total gross\"] = movies_df[\"domestic total gross\"].apply(money_to_int)\n",
    "movies_df[\"international gross\"] = movies_df[\"international gross\"].apply(money_to_int)\n",
    "movies_df[\"worldwide gross\"] = movies_df[\"worldwide gross\"].apply(money_to_int)"
   ]
  },
  {
   "cell_type": "code",
   "execution_count": 241,
   "id": "260af01b",
   "metadata": {},
   "outputs": [],
   "source": [
    "movies_df['budget'] = movies_df[\"budget\"].apply(money_to_int)"
   ]
  },
  {
   "cell_type": "code",
   "execution_count": 242,
   "id": "b7ec793f",
   "metadata": {},
   "outputs": [],
   "source": [
    "def widest_release(strng):\n",
    "    s1 = strng.replace(',','')\n",
    "    s2 = s1.split(' ')[0]\n",
    "    return int(s2)"
   ]
  },
  {
   "cell_type": "code",
   "execution_count": 243,
   "id": "d5fbfd99",
   "metadata": {},
   "outputs": [
    {
     "data": {
      "text/html": [
       "<div>\n",
       "<style scoped>\n",
       "    .dataframe tbody tr th:only-of-type {\n",
       "        vertical-align: middle;\n",
       "    }\n",
       "\n",
       "    .dataframe tbody tr th {\n",
       "        vertical-align: top;\n",
       "    }\n",
       "\n",
       "    .dataframe thead th {\n",
       "        text-align: right;\n",
       "    }\n",
       "</style>\n",
       "<table border=\"1\" class=\"dataframe\">\n",
       "  <thead>\n",
       "    <tr style=\"text-align: right;\">\n",
       "      <th></th>\n",
       "      <th>movie title</th>\n",
       "      <th>domestic total gross</th>\n",
       "      <th>international gross</th>\n",
       "      <th>worldwide gross</th>\n",
       "      <th>genres</th>\n",
       "      <th>runtime (mins)</th>\n",
       "      <th>rating</th>\n",
       "      <th>release date</th>\n",
       "      <th>widest release</th>\n",
       "      <th>budget</th>\n",
       "      <th>distributor</th>\n",
       "      <th>action</th>\n",
       "    </tr>\n",
       "  </thead>\n",
       "  <tbody>\n",
       "    <tr>\n",
       "      <th>0</th>\n",
       "      <td>Jurassic World</td>\n",
       "      <td>652270625</td>\n",
       "      <td>1018130012</td>\n",
       "      <td>1.670401e+09</td>\n",
       "      <td>Action Adventure Sci-Fi</td>\n",
       "      <td>2 hr 4 min</td>\n",
       "      <td>PG-13</td>\n",
       "      <td>Jun 12, 2015</td>\n",
       "      <td>4291</td>\n",
       "      <td>150000000.0</td>\n",
       "      <td>Universal Pictures</td>\n",
       "      <td>1</td>\n",
       "    </tr>\n",
       "    <tr>\n",
       "      <th>1</th>\n",
       "      <td>Star Wars: Episode VII</td>\n",
       "      <td>936662225</td>\n",
       "      <td>1131561399</td>\n",
       "      <td>2.068224e+09</td>\n",
       "      <td>Action Adventure Sci-Fi</td>\n",
       "      <td>2 hr 18 min</td>\n",
       "      <td>PG-13</td>\n",
       "      <td>Dec 18, 2015</td>\n",
       "      <td>4134</td>\n",
       "      <td>245000000.0</td>\n",
       "      <td>Walt Disney Studios Motion Pictures</td>\n",
       "      <td>1</td>\n",
       "    </tr>\n",
       "    <tr>\n",
       "      <th>2</th>\n",
       "      <td>Avengers: Age of Ultron</td>\n",
       "      <td>459005868</td>\n",
       "      <td>943800000</td>\n",
       "      <td>1.402806e+09</td>\n",
       "      <td>Action Adventure Sci-Fi</td>\n",
       "      <td>2 hr 21 min</td>\n",
       "      <td>PG-13</td>\n",
       "      <td>May 1, 2015</td>\n",
       "      <td>4276</td>\n",
       "      <td>250000000.0</td>\n",
       "      <td>Walt Disney Studios Motion Pictures</td>\n",
       "      <td>1</td>\n",
       "    </tr>\n",
       "    <tr>\n",
       "      <th>3</th>\n",
       "      <td>Inside Out</td>\n",
       "      <td>356461711</td>\n",
       "      <td>501149463</td>\n",
       "      <td>8.576112e+08</td>\n",
       "      <td>Adventure Animation Comedy Drama Family Fantasy</td>\n",
       "      <td>1 hr 35 min</td>\n",
       "      <td>PG</td>\n",
       "      <td>Jun 19, 2015</td>\n",
       "      <td>4158</td>\n",
       "      <td>175000000.0</td>\n",
       "      <td>Walt Disney Studios Motion Pictures</td>\n",
       "      <td>0</td>\n",
       "    </tr>\n",
       "    <tr>\n",
       "      <th>4</th>\n",
       "      <td>Furious 7</td>\n",
       "      <td>353007020</td>\n",
       "      <td>1162040651</td>\n",
       "      <td>1.515048e+09</td>\n",
       "      <td>Action Crime Thriller</td>\n",
       "      <td>2 hr 17 min</td>\n",
       "      <td>PG-13</td>\n",
       "      <td>Apr 3, 2015</td>\n",
       "      <td>4022</td>\n",
       "      <td>190000000.0</td>\n",
       "      <td>Universal Pictures</td>\n",
       "      <td>1</td>\n",
       "    </tr>\n",
       "  </tbody>\n",
       "</table>\n",
       "</div>"
      ],
      "text/plain": [
       "               movie title  domestic total gross  international gross  \\\n",
       "0           Jurassic World             652270625           1018130012   \n",
       "1   Star Wars: Episode VII             936662225           1131561399   \n",
       "2  Avengers: Age of Ultron             459005868            943800000   \n",
       "3               Inside Out             356461711            501149463   \n",
       "4                Furious 7             353007020           1162040651   \n",
       "\n",
       "   worldwide gross                                           genres  \\\n",
       "0     1.670401e+09                          Action Adventure Sci-Fi   \n",
       "1     2.068224e+09                          Action Adventure Sci-Fi   \n",
       "2     1.402806e+09                          Action Adventure Sci-Fi   \n",
       "3     8.576112e+08  Adventure Animation Comedy Drama Family Fantasy   \n",
       "4     1.515048e+09                            Action Crime Thriller   \n",
       "\n",
       "  runtime (mins) rating  release date  widest release       budget  \\\n",
       "0     2 hr 4 min  PG-13  Jun 12, 2015            4291  150000000.0   \n",
       "1    2 hr 18 min  PG-13  Dec 18, 2015            4134  245000000.0   \n",
       "2    2 hr 21 min  PG-13   May 1, 2015            4276  250000000.0   \n",
       "3    1 hr 35 min     PG  Jun 19, 2015            4158  175000000.0   \n",
       "4    2 hr 17 min  PG-13   Apr 3, 2015            4022  190000000.0   \n",
       "\n",
       "                           distributor  action  \n",
       "0                   Universal Pictures       1  \n",
       "1  Walt Disney Studios Motion Pictures       1  \n",
       "2  Walt Disney Studios Motion Pictures       1  \n",
       "3  Walt Disney Studios Motion Pictures       0  \n",
       "4                   Universal Pictures       1  "
      ]
     },
     "execution_count": 243,
     "metadata": {},
     "output_type": "execute_result"
    }
   ],
   "source": [
    "movies_df['widest release'] = movies_df['widest release'].apply(widest_release)\n",
    "movies_df.head()"
   ]
  },
  {
   "cell_type": "code",
   "execution_count": 244,
   "id": "039a5f40",
   "metadata": {},
   "outputs": [],
   "source": [
    "with open('BOmojo1.pkl', 'wb') as f:\n",
    "    pickle.dump(movies_df, f)"
   ]
  },
  {
   "cell_type": "code",
   "execution_count": 245,
   "id": "fc0f8f6f",
   "metadata": {},
   "outputs": [],
   "source": [
    "with open('BOmojo1.pkl', 'rb') as f:\n",
    "    movies_df = pickle.load(f)"
   ]
  },
  {
   "cell_type": "code",
   "execution_count": 246,
   "id": "ec54cd94",
   "metadata": {},
   "outputs": [],
   "source": [
    "def get_month(release_date):\n",
    "    return release_date[0:3].lower()"
   ]
  },
  {
   "cell_type": "code",
   "execution_count": 247,
   "id": "3d011ebb",
   "metadata": {},
   "outputs": [
    {
     "data": {
      "text/plain": [
       "dec    140\n",
       "nov    123\n",
       "oct     84\n",
       "aug     84\n",
       "mar     78\n",
       "sep     78\n",
       "jun     75\n",
       "apr     75\n",
       "jul     75\n",
       "feb     71\n",
       "may     63\n",
       "jan     54\n",
       "Name: release_month, dtype: int64"
      ]
     },
     "execution_count": 247,
     "metadata": {},
     "output_type": "execute_result"
    }
   ],
   "source": [
    "movies_df['release_month'] = movies_df['release date'].apply(get_month)\n",
    "movies_df['release_month'].value_counts()"
   ]
  },
  {
   "cell_type": "code",
   "execution_count": 248,
   "id": "c7d8e191",
   "metadata": {},
   "outputs": [],
   "source": [
    "def runtime_conv(runtimestring):\n",
    "    try:\n",
    "        runtime = runtimestring.split()\n",
    "        minutes = int(runtime[0])*60 + int(runtime[2])\n",
    "        return minutes\n",
    "    except:\n",
    "        return None"
   ]
  },
  {
   "cell_type": "code",
   "execution_count": 249,
   "id": "60aff3e3",
   "metadata": {},
   "outputs": [
    {
     "data": {
      "text/plain": [
       "1"
      ]
     },
     "execution_count": 249,
     "metadata": {},
     "output_type": "execute_result"
    }
   ],
   "source": [
    "movies_df['runtime (mins)'].isna().sum()"
   ]
  },
  {
   "cell_type": "code",
   "execution_count": 250,
   "id": "f7d64a65",
   "metadata": {},
   "outputs": [
    {
     "data": {
      "text/html": [
       "<div>\n",
       "<style scoped>\n",
       "    .dataframe tbody tr th:only-of-type {\n",
       "        vertical-align: middle;\n",
       "    }\n",
       "\n",
       "    .dataframe tbody tr th {\n",
       "        vertical-align: top;\n",
       "    }\n",
       "\n",
       "    .dataframe thead th {\n",
       "        text-align: right;\n",
       "    }\n",
       "</style>\n",
       "<table border=\"1\" class=\"dataframe\">\n",
       "  <thead>\n",
       "    <tr style=\"text-align: right;\">\n",
       "      <th></th>\n",
       "      <th>movie title</th>\n",
       "      <th>domestic total gross</th>\n",
       "      <th>international gross</th>\n",
       "      <th>worldwide gross</th>\n",
       "      <th>genres</th>\n",
       "      <th>runtime (mins)</th>\n",
       "      <th>rating</th>\n",
       "      <th>release date</th>\n",
       "      <th>widest release</th>\n",
       "      <th>budget</th>\n",
       "      <th>distributor</th>\n",
       "      <th>action</th>\n",
       "      <th>release_month</th>\n",
       "    </tr>\n",
       "  </thead>\n",
       "  <tbody>\n",
       "    <tr>\n",
       "      <th>0</th>\n",
       "      <td>Jurassic World</td>\n",
       "      <td>652270625</td>\n",
       "      <td>1018130012</td>\n",
       "      <td>1.670401e+09</td>\n",
       "      <td>Action Adventure Sci-Fi</td>\n",
       "      <td>124.0</td>\n",
       "      <td>PG-13</td>\n",
       "      <td>Jun 12, 2015</td>\n",
       "      <td>4291</td>\n",
       "      <td>150000000.0</td>\n",
       "      <td>Universal Pictures</td>\n",
       "      <td>1</td>\n",
       "      <td>jun</td>\n",
       "    </tr>\n",
       "    <tr>\n",
       "      <th>1</th>\n",
       "      <td>Star Wars: Episode VII</td>\n",
       "      <td>936662225</td>\n",
       "      <td>1131561399</td>\n",
       "      <td>2.068224e+09</td>\n",
       "      <td>Action Adventure Sci-Fi</td>\n",
       "      <td>138.0</td>\n",
       "      <td>PG-13</td>\n",
       "      <td>Dec 18, 2015</td>\n",
       "      <td>4134</td>\n",
       "      <td>245000000.0</td>\n",
       "      <td>Walt Disney Studios Motion Pictures</td>\n",
       "      <td>1</td>\n",
       "      <td>dec</td>\n",
       "    </tr>\n",
       "    <tr>\n",
       "      <th>2</th>\n",
       "      <td>Avengers: Age of Ultron</td>\n",
       "      <td>459005868</td>\n",
       "      <td>943800000</td>\n",
       "      <td>1.402806e+09</td>\n",
       "      <td>Action Adventure Sci-Fi</td>\n",
       "      <td>141.0</td>\n",
       "      <td>PG-13</td>\n",
       "      <td>May 1, 2015</td>\n",
       "      <td>4276</td>\n",
       "      <td>250000000.0</td>\n",
       "      <td>Walt Disney Studios Motion Pictures</td>\n",
       "      <td>1</td>\n",
       "      <td>may</td>\n",
       "    </tr>\n",
       "    <tr>\n",
       "      <th>3</th>\n",
       "      <td>Inside Out</td>\n",
       "      <td>356461711</td>\n",
       "      <td>501149463</td>\n",
       "      <td>8.576112e+08</td>\n",
       "      <td>Adventure Animation Comedy Drama Family Fantasy</td>\n",
       "      <td>95.0</td>\n",
       "      <td>PG</td>\n",
       "      <td>Jun 19, 2015</td>\n",
       "      <td>4158</td>\n",
       "      <td>175000000.0</td>\n",
       "      <td>Walt Disney Studios Motion Pictures</td>\n",
       "      <td>0</td>\n",
       "      <td>jun</td>\n",
       "    </tr>\n",
       "    <tr>\n",
       "      <th>4</th>\n",
       "      <td>Furious 7</td>\n",
       "      <td>353007020</td>\n",
       "      <td>1162040651</td>\n",
       "      <td>1.515048e+09</td>\n",
       "      <td>Action Crime Thriller</td>\n",
       "      <td>137.0</td>\n",
       "      <td>PG-13</td>\n",
       "      <td>Apr 3, 2015</td>\n",
       "      <td>4022</td>\n",
       "      <td>190000000.0</td>\n",
       "      <td>Universal Pictures</td>\n",
       "      <td>1</td>\n",
       "      <td>apr</td>\n",
       "    </tr>\n",
       "  </tbody>\n",
       "</table>\n",
       "</div>"
      ],
      "text/plain": [
       "               movie title  domestic total gross  international gross  \\\n",
       "0           Jurassic World             652270625           1018130012   \n",
       "1   Star Wars: Episode VII             936662225           1131561399   \n",
       "2  Avengers: Age of Ultron             459005868            943800000   \n",
       "3               Inside Out             356461711            501149463   \n",
       "4                Furious 7             353007020           1162040651   \n",
       "\n",
       "   worldwide gross                                           genres  \\\n",
       "0     1.670401e+09                          Action Adventure Sci-Fi   \n",
       "1     2.068224e+09                          Action Adventure Sci-Fi   \n",
       "2     1.402806e+09                          Action Adventure Sci-Fi   \n",
       "3     8.576112e+08  Adventure Animation Comedy Drama Family Fantasy   \n",
       "4     1.515048e+09                            Action Crime Thriller   \n",
       "\n",
       "   runtime (mins) rating  release date  widest release       budget  \\\n",
       "0           124.0  PG-13  Jun 12, 2015            4291  150000000.0   \n",
       "1           138.0  PG-13  Dec 18, 2015            4134  245000000.0   \n",
       "2           141.0  PG-13   May 1, 2015            4276  250000000.0   \n",
       "3            95.0     PG  Jun 19, 2015            4158  175000000.0   \n",
       "4           137.0  PG-13   Apr 3, 2015            4022  190000000.0   \n",
       "\n",
       "                           distributor  action release_month  \n",
       "0                   Universal Pictures       1           jun  \n",
       "1  Walt Disney Studios Motion Pictures       1           dec  \n",
       "2  Walt Disney Studios Motion Pictures       1           may  \n",
       "3  Walt Disney Studios Motion Pictures       0           jun  \n",
       "4                   Universal Pictures       1           apr  "
      ]
     },
     "execution_count": 250,
     "metadata": {},
     "output_type": "execute_result"
    }
   ],
   "source": [
    "movies_df['runtime (mins)'] = movies_df['runtime (mins)'].apply(runtime_conv)\n",
    "movies_df.head()"
   ]
  },
  {
   "cell_type": "code",
   "execution_count": 251,
   "id": "805ebd1f",
   "metadata": {},
   "outputs": [
    {
     "data": {
      "text/html": [
       "<div>\n",
       "<style scoped>\n",
       "    .dataframe tbody tr th:only-of-type {\n",
       "        vertical-align: middle;\n",
       "    }\n",
       "\n",
       "    .dataframe tbody tr th {\n",
       "        vertical-align: top;\n",
       "    }\n",
       "\n",
       "    .dataframe thead th {\n",
       "        text-align: right;\n",
       "    }\n",
       "</style>\n",
       "<table border=\"1\" class=\"dataframe\">\n",
       "  <thead>\n",
       "    <tr style=\"text-align: right;\">\n",
       "      <th></th>\n",
       "      <th>movie title</th>\n",
       "      <th>domestic total gross</th>\n",
       "      <th>international gross</th>\n",
       "      <th>worldwide gross</th>\n",
       "      <th>genres</th>\n",
       "      <th>runtime (mins)</th>\n",
       "      <th>rating</th>\n",
       "      <th>release date</th>\n",
       "      <th>widest release</th>\n",
       "      <th>budget</th>\n",
       "      <th>distributor</th>\n",
       "      <th>action</th>\n",
       "      <th>release_month</th>\n",
       "      <th>G</th>\n",
       "      <th>Not Rated</th>\n",
       "      <th>PG</th>\n",
       "      <th>PG-13</th>\n",
       "      <th>R</th>\n",
       "    </tr>\n",
       "  </thead>\n",
       "  <tbody>\n",
       "    <tr>\n",
       "      <th>0</th>\n",
       "      <td>Jurassic World</td>\n",
       "      <td>652270625</td>\n",
       "      <td>1018130012</td>\n",
       "      <td>1.670401e+09</td>\n",
       "      <td>Action Adventure Sci-Fi</td>\n",
       "      <td>124.0</td>\n",
       "      <td>PG-13</td>\n",
       "      <td>Jun 12, 2015</td>\n",
       "      <td>4291</td>\n",
       "      <td>150000000.0</td>\n",
       "      <td>Universal Pictures</td>\n",
       "      <td>1</td>\n",
       "      <td>jun</td>\n",
       "      <td>0</td>\n",
       "      <td>0</td>\n",
       "      <td>0</td>\n",
       "      <td>1</td>\n",
       "      <td>0</td>\n",
       "    </tr>\n",
       "    <tr>\n",
       "      <th>1</th>\n",
       "      <td>Star Wars: Episode VII</td>\n",
       "      <td>936662225</td>\n",
       "      <td>1131561399</td>\n",
       "      <td>2.068224e+09</td>\n",
       "      <td>Action Adventure Sci-Fi</td>\n",
       "      <td>138.0</td>\n",
       "      <td>PG-13</td>\n",
       "      <td>Dec 18, 2015</td>\n",
       "      <td>4134</td>\n",
       "      <td>245000000.0</td>\n",
       "      <td>Walt Disney Studios Motion Pictures</td>\n",
       "      <td>1</td>\n",
       "      <td>dec</td>\n",
       "      <td>0</td>\n",
       "      <td>0</td>\n",
       "      <td>0</td>\n",
       "      <td>1</td>\n",
       "      <td>0</td>\n",
       "    </tr>\n",
       "    <tr>\n",
       "      <th>2</th>\n",
       "      <td>Avengers: Age of Ultron</td>\n",
       "      <td>459005868</td>\n",
       "      <td>943800000</td>\n",
       "      <td>1.402806e+09</td>\n",
       "      <td>Action Adventure Sci-Fi</td>\n",
       "      <td>141.0</td>\n",
       "      <td>PG-13</td>\n",
       "      <td>May 1, 2015</td>\n",
       "      <td>4276</td>\n",
       "      <td>250000000.0</td>\n",
       "      <td>Walt Disney Studios Motion Pictures</td>\n",
       "      <td>1</td>\n",
       "      <td>may</td>\n",
       "      <td>0</td>\n",
       "      <td>0</td>\n",
       "      <td>0</td>\n",
       "      <td>1</td>\n",
       "      <td>0</td>\n",
       "    </tr>\n",
       "    <tr>\n",
       "      <th>3</th>\n",
       "      <td>Inside Out</td>\n",
       "      <td>356461711</td>\n",
       "      <td>501149463</td>\n",
       "      <td>8.576112e+08</td>\n",
       "      <td>Adventure Animation Comedy Drama Family Fantasy</td>\n",
       "      <td>95.0</td>\n",
       "      <td>PG</td>\n",
       "      <td>Jun 19, 2015</td>\n",
       "      <td>4158</td>\n",
       "      <td>175000000.0</td>\n",
       "      <td>Walt Disney Studios Motion Pictures</td>\n",
       "      <td>0</td>\n",
       "      <td>jun</td>\n",
       "      <td>0</td>\n",
       "      <td>0</td>\n",
       "      <td>1</td>\n",
       "      <td>0</td>\n",
       "      <td>0</td>\n",
       "    </tr>\n",
       "    <tr>\n",
       "      <th>4</th>\n",
       "      <td>Furious 7</td>\n",
       "      <td>353007020</td>\n",
       "      <td>1162040651</td>\n",
       "      <td>1.515048e+09</td>\n",
       "      <td>Action Crime Thriller</td>\n",
       "      <td>137.0</td>\n",
       "      <td>PG-13</td>\n",
       "      <td>Apr 3, 2015</td>\n",
       "      <td>4022</td>\n",
       "      <td>190000000.0</td>\n",
       "      <td>Universal Pictures</td>\n",
       "      <td>1</td>\n",
       "      <td>apr</td>\n",
       "      <td>0</td>\n",
       "      <td>0</td>\n",
       "      <td>0</td>\n",
       "      <td>1</td>\n",
       "      <td>0</td>\n",
       "    </tr>\n",
       "  </tbody>\n",
       "</table>\n",
       "</div>"
      ],
      "text/plain": [
       "               movie title  domestic total gross  international gross  \\\n",
       "0           Jurassic World             652270625           1018130012   \n",
       "1   Star Wars: Episode VII             936662225           1131561399   \n",
       "2  Avengers: Age of Ultron             459005868            943800000   \n",
       "3               Inside Out             356461711            501149463   \n",
       "4                Furious 7             353007020           1162040651   \n",
       "\n",
       "   worldwide gross                                           genres  \\\n",
       "0     1.670401e+09                          Action Adventure Sci-Fi   \n",
       "1     2.068224e+09                          Action Adventure Sci-Fi   \n",
       "2     1.402806e+09                          Action Adventure Sci-Fi   \n",
       "3     8.576112e+08  Adventure Animation Comedy Drama Family Fantasy   \n",
       "4     1.515048e+09                            Action Crime Thriller   \n",
       "\n",
       "   runtime (mins) rating  release date  widest release       budget  \\\n",
       "0           124.0  PG-13  Jun 12, 2015            4291  150000000.0   \n",
       "1           138.0  PG-13  Dec 18, 2015            4134  245000000.0   \n",
       "2           141.0  PG-13   May 1, 2015            4276  250000000.0   \n",
       "3            95.0     PG  Jun 19, 2015            4158  175000000.0   \n",
       "4           137.0  PG-13   Apr 3, 2015            4022  190000000.0   \n",
       "\n",
       "                           distributor  action release_month  G  Not Rated  \\\n",
       "0                   Universal Pictures       1           jun  0          0   \n",
       "1  Walt Disney Studios Motion Pictures       1           dec  0          0   \n",
       "2  Walt Disney Studios Motion Pictures       1           may  0          0   \n",
       "3  Walt Disney Studios Motion Pictures       0           jun  0          0   \n",
       "4                   Universal Pictures       1           apr  0          0   \n",
       "\n",
       "   PG  PG-13  R  \n",
       "0   0      1  0  \n",
       "1   0      1  0  \n",
       "2   0      1  0  \n",
       "3   1      0  0  \n",
       "4   0      1  0  "
      ]
     },
     "execution_count": 251,
     "metadata": {},
     "output_type": "execute_result"
    }
   ],
   "source": [
    "movies_df1 = pd.concat([movies_df, pd.get_dummies(movies_df['rating'],drop_first=False)],axis = 1)\n",
    "movies_df1.head()"
   ]
  },
  {
   "cell_type": "code",
   "execution_count": 181,
   "id": "9e552ce4",
   "metadata": {},
   "outputs": [
    {
     "ename": "NameError",
     "evalue": "name 'movies_df1' is not defined",
     "output_type": "error",
     "traceback": [
      "\u001b[0;31m---------------------------------------------------------------------------\u001b[0m",
      "\u001b[0;31mNameError\u001b[0m                                 Traceback (most recent call last)",
      "\u001b[0;32m/var/folders/6l/hl1r0ft932qd3p4vqcjhyw7r0000gn/T/ipykernel_23161/2514718433.py\u001b[0m in \u001b[0;36m<module>\u001b[0;34m\u001b[0m\n\u001b[0;32m----> 1\u001b[0;31m \u001b[0mmovies_df1\u001b[0m \u001b[0;34m=\u001b[0m \u001b[0mmovies_df1\u001b[0m\u001b[0;34m.\u001b[0m\u001b[0mdrop\u001b[0m\u001b[0;34m(\u001b[0m\u001b[0mcolumns\u001b[0m\u001b[0;34m=\u001b[0m\u001b[0;34m[\u001b[0m\u001b[0;34m'Not Rated'\u001b[0m\u001b[0;34m]\u001b[0m\u001b[0;34m)\u001b[0m\u001b[0;34m\u001b[0m\u001b[0;34m\u001b[0m\u001b[0m\n\u001b[0m",
      "\u001b[0;31mNameError\u001b[0m: name 'movies_df1' is not defined"
     ]
    }
   ],
   "source": [
    "movies_df1 = movies_df1.drop(columns=['Not Rated'])"
   ]
  },
  {
   "cell_type": "code",
   "execution_count": 253,
   "id": "5e7d3197",
   "metadata": {},
   "outputs": [
    {
     "data": {
      "text/plain": [
       "Warner Bros.             116\n",
       "Universal Pictures        91\n",
       "Twentieth Century Fox     80\n",
       "Lionsgate                 79\n",
       "Paramount Pictures        68\n",
       "                        ... \n",
       "Novus                      1\n",
       "Zee TV                     1\n",
       "Oscilloscope               1\n",
       "The H Collective           1\n",
       "GKIDS                      1\n",
       "Name: distributor, Length: 87, dtype: int64"
      ]
     },
     "execution_count": 253,
     "metadata": {},
     "output_type": "execute_result"
    }
   ],
   "source": [
    "d_list = movies_df1['distributor'].value_counts()\n",
    "d_list"
   ]
  },
  {
   "cell_type": "code",
   "execution_count": 254,
   "id": "bfd741ae",
   "metadata": {},
   "outputs": [],
   "source": [
    "other_ds = list(d_list[d_list <= 40].index)"
   ]
  },
  {
   "cell_type": "code",
   "execution_count": 255,
   "id": "6bf60548",
   "metadata": {},
   "outputs": [
    {
     "data": {
      "text/plain": [
       "other                                  441\n",
       "Warner Bros.                           116\n",
       "Universal Pictures                      91\n",
       "Twentieth Century Fox                   80\n",
       "Lionsgate                               79\n",
       "Paramount Pictures                      68\n",
       "Walt Disney Studios Motion Pictures     64\n",
       "Sony Pictures Entertainment (SPE)       61\n",
       "Name: distributor, dtype: int64"
      ]
     },
     "execution_count": 255,
     "metadata": {},
     "output_type": "execute_result"
    }
   ],
   "source": [
    "movies_df1['distributor'] = movies_df1['distributor'].replace(other_ds, 'other')\n",
    "movies_df1['distributor'].value_counts()"
   ]
  },
  {
   "cell_type": "code",
   "execution_count": 257,
   "id": "6b29f1ba",
   "metadata": {},
   "outputs": [
    {
     "data": {
      "text/plain": [
       "0    699\n",
       "1    301\n",
       "Name: action, dtype: int64"
      ]
     },
     "execution_count": 257,
     "metadata": {},
     "output_type": "execute_result"
    }
   ],
   "source": [
    "movies_df2 = pd.concat([movies_df1, pd.get_dummies(movies_df1['distributor'],drop_first=True)],axis = 1)"
   ]
  },
  {
   "cell_type": "code",
   "execution_count": null,
   "id": "5d75c859",
   "metadata": {},
   "outputs": [],
   "source": []
  },
  {
   "cell_type": "code",
   "execution_count": 259,
   "id": "f71fc882",
   "metadata": {},
   "outputs": [],
   "source": [
    "movies_df2['worldwide gross'].fillna(movies_df2['domestic total gross'] + movies_df2['international gross'],inplace = True)"
   ]
  },
  {
   "cell_type": "code",
   "execution_count": 260,
   "id": "2847f426",
   "metadata": {},
   "outputs": [],
   "source": [
    "movies_df2['runtime (mins)'].fillna(value=movies_df2['runtime (mins)'].mean(),inplace=True)"
   ]
  },
  {
   "cell_type": "code",
   "execution_count": 261,
   "id": "4bbcbb13",
   "metadata": {},
   "outputs": [],
   "source": [
    "movies_df2['budget'].fillna(value=movies_df2['budget'].median(),inplace=True)"
   ]
  },
  {
   "cell_type": "code",
   "execution_count": null,
   "id": "097a55d8",
   "metadata": {},
   "outputs": [],
   "source": []
  },
  {
   "cell_type": "code",
   "execution_count": null,
   "id": "99184228",
   "metadata": {},
   "outputs": [],
   "source": []
  },
  {
   "cell_type": "code",
   "execution_count": 7,
   "id": "bd038e9c",
   "metadata": {},
   "outputs": [
    {
     "name": "stderr",
     "output_type": "stream",
     "text": [
      "/Applications/anaconda3/envs/metis/lib/python3.9/site-packages/statsmodels/compat/pandas.py:65: FutureWarning: pandas.Int64Index is deprecated and will be removed from pandas in a future version. Use pandas.Index with the appropriate dtype instead.\n",
      "  from pandas import Int64Index as NumericIndex\n"
     ]
    }
   ],
   "source": [
    "import statsmodels.api as sm\n",
    "from sklearn.model_selection import train_test_split"
   ]
  },
  {
   "cell_type": "code",
   "execution_count": 264,
   "id": "26b06b88",
   "metadata": {},
   "outputs": [
    {
     "data": {
      "text/plain": [
       "dec    140\n",
       "nov    123\n",
       "oct     84\n",
       "aug     84\n",
       "mar     78\n",
       "sep     78\n",
       "jun     75\n",
       "apr     75\n",
       "jul     75\n",
       "feb     71\n",
       "may     63\n",
       "jan     54\n",
       "Name: release_month, dtype: int64"
      ]
     },
     "execution_count": 264,
     "metadata": {},
     "output_type": "execute_result"
    }
   ],
   "source": [
    "movies_df2['release_month'].value_counts()"
   ]
  },
  {
   "cell_type": "code",
   "execution_count": null,
   "id": "04450f90",
   "metadata": {},
   "outputs": [],
   "source": [
    "\n"
   ]
  },
  {
   "cell_type": "code",
   "execution_count": null,
   "id": "091476e6",
   "metadata": {},
   "outputs": [],
   "source": []
  },
  {
   "cell_type": "markdown",
   "id": "7111d2e1",
   "metadata": {},
   "source": [
    "We see that many of our variables, including all of the continuous variables, are statistically significant predictors of Worldwide Gross Box Office.  Longer runtime, higher budget, and wider releases are all positively correlated with Worlwide Gross, meaning that increasing any of those variables predicts an increase in Box Office.  Some of the dummy variables for Distributor and Rating are not statistically significant.\n",
    "\n",
    "The default distributor (the one without a dummy variable) is Lions Gate, and with, the exception of Paramount, the coefficient for each of the other distributors' dummy variable is positive, meaning that films from those distributors predict higher box office than Lion's Gate.  The highest coeffcient is for Universal pictures, meaning that Universal Pictures films, while holding all other variables equal, predict higher box office than any other studio\n",
    "\n",
    "All coefficients for ratings are negative, meaning the default rating, G, is associated with the highest box office.  This results may not be generalizable, as a small number of G-rated films are in the dataset, and they may be outliers compared to other G Rated films.  It may make sense to add an interaction variable between G-rated movies and Disney studios."
   ]
  },
  {
   "cell_type": "code",
   "execution_count": 127,
   "id": "53f56db4",
   "metadata": {},
   "outputs": [
    {
     "name": "stdout",
     "output_type": "stream",
     "text": [
      "109387880.91816792\n"
     ]
    }
   ],
   "source": [
    "mae = sum(abs(movie_model.predict(X1) - y))/len(y)\n",
    "print(mae)"
   ]
  },
  {
   "cell_type": "code",
   "execution_count": null,
   "id": "405d7c97",
   "metadata": {},
   "outputs": [],
   "source": []
  },
  {
   "cell_type": "markdown",
   "id": "cf16050f",
   "metadata": {},
   "source": [
    "To assess the precision of the model, I have chosen Mean Absolute Error, which tells us the avreage difference between predicted Box Office, and actual Box Office.  The MAE value of $108,941,600 tells us the the model is some way off being useful and that there is more work to be done"
   ]
  },
  {
   "cell_type": "code",
   "execution_count": null,
   "id": "cea0d8fe",
   "metadata": {},
   "outputs": [],
   "source": []
  },
  {
   "cell_type": "code",
   "execution_count": 75,
   "id": "3bb57e9e",
   "metadata": {},
   "outputs": [],
   "source": []
  },
  {
   "cell_type": "code",
   "execution_count": null,
   "id": "9403ad27",
   "metadata": {},
   "outputs": [],
   "source": []
  },
  {
   "cell_type": "code",
   "execution_count": 217,
   "id": "9adaeb05",
   "metadata": {},
   "outputs": [],
   "source": [
    "with open('BOmojo2.pkl', 'wb') as f:\n",
    "    pickle.dump(movies_df2, f)"
   ]
  },
  {
   "cell_type": "code",
   "execution_count": 184,
   "id": "4a4436b5",
   "metadata": {},
   "outputs": [],
   "source": [
    "with open('BOmojo2.pkl', 'rb') as f:\n",
    "    movies_df2 = pickle.load(f)"
   ]
  },
  {
   "cell_type": "code",
   "execution_count": 266,
   "id": "f3fc8733",
   "metadata": {},
   "outputs": [
    {
     "data": {
      "text/html": [
       "<div>\n",
       "<style scoped>\n",
       "    .dataframe tbody tr th:only-of-type {\n",
       "        vertical-align: middle;\n",
       "    }\n",
       "\n",
       "    .dataframe tbody tr th {\n",
       "        vertical-align: top;\n",
       "    }\n",
       "\n",
       "    .dataframe thead th {\n",
       "        text-align: right;\n",
       "    }\n",
       "</style>\n",
       "<table border=\"1\" class=\"dataframe\">\n",
       "  <thead>\n",
       "    <tr style=\"text-align: right;\">\n",
       "      <th></th>\n",
       "      <th>movie title</th>\n",
       "      <th>domestic total gross</th>\n",
       "      <th>international gross</th>\n",
       "      <th>worldwide gross</th>\n",
       "      <th>genres</th>\n",
       "      <th>runtime (mins)</th>\n",
       "      <th>rating</th>\n",
       "      <th>release date</th>\n",
       "      <th>widest release</th>\n",
       "      <th>budget</th>\n",
       "      <th>...</th>\n",
       "      <th>PG</th>\n",
       "      <th>PG-13</th>\n",
       "      <th>R</th>\n",
       "      <th>Paramount Pictures</th>\n",
       "      <th>Sony Pictures Entertainment (SPE)</th>\n",
       "      <th>Twentieth Century Fox</th>\n",
       "      <th>Universal Pictures</th>\n",
       "      <th>Walt Disney Studios Motion Pictures</th>\n",
       "      <th>Warner Bros.</th>\n",
       "      <th>other</th>\n",
       "    </tr>\n",
       "  </thead>\n",
       "  <tbody>\n",
       "    <tr>\n",
       "      <th>0</th>\n",
       "      <td>Jurassic World</td>\n",
       "      <td>652270625</td>\n",
       "      <td>1018130012</td>\n",
       "      <td>1.670401e+09</td>\n",
       "      <td>Action Adventure Sci-Fi</td>\n",
       "      <td>124.0</td>\n",
       "      <td>PG-13</td>\n",
       "      <td>Jun 12, 2015</td>\n",
       "      <td>4291</td>\n",
       "      <td>150000000.0</td>\n",
       "      <td>...</td>\n",
       "      <td>0</td>\n",
       "      <td>1</td>\n",
       "      <td>0</td>\n",
       "      <td>0</td>\n",
       "      <td>0</td>\n",
       "      <td>0</td>\n",
       "      <td>1</td>\n",
       "      <td>0</td>\n",
       "      <td>0</td>\n",
       "      <td>0</td>\n",
       "    </tr>\n",
       "    <tr>\n",
       "      <th>1</th>\n",
       "      <td>Star Wars: Episode VII</td>\n",
       "      <td>936662225</td>\n",
       "      <td>1131561399</td>\n",
       "      <td>2.068224e+09</td>\n",
       "      <td>Action Adventure Sci-Fi</td>\n",
       "      <td>138.0</td>\n",
       "      <td>PG-13</td>\n",
       "      <td>Dec 18, 2015</td>\n",
       "      <td>4134</td>\n",
       "      <td>245000000.0</td>\n",
       "      <td>...</td>\n",
       "      <td>0</td>\n",
       "      <td>1</td>\n",
       "      <td>0</td>\n",
       "      <td>0</td>\n",
       "      <td>0</td>\n",
       "      <td>0</td>\n",
       "      <td>0</td>\n",
       "      <td>1</td>\n",
       "      <td>0</td>\n",
       "      <td>0</td>\n",
       "    </tr>\n",
       "    <tr>\n",
       "      <th>2</th>\n",
       "      <td>Avengers: Age of Ultron</td>\n",
       "      <td>459005868</td>\n",
       "      <td>943800000</td>\n",
       "      <td>1.402806e+09</td>\n",
       "      <td>Action Adventure Sci-Fi</td>\n",
       "      <td>141.0</td>\n",
       "      <td>PG-13</td>\n",
       "      <td>May 1, 2015</td>\n",
       "      <td>4276</td>\n",
       "      <td>250000000.0</td>\n",
       "      <td>...</td>\n",
       "      <td>0</td>\n",
       "      <td>1</td>\n",
       "      <td>0</td>\n",
       "      <td>0</td>\n",
       "      <td>0</td>\n",
       "      <td>0</td>\n",
       "      <td>0</td>\n",
       "      <td>1</td>\n",
       "      <td>0</td>\n",
       "      <td>0</td>\n",
       "    </tr>\n",
       "    <tr>\n",
       "      <th>3</th>\n",
       "      <td>Inside Out</td>\n",
       "      <td>356461711</td>\n",
       "      <td>501149463</td>\n",
       "      <td>8.576112e+08</td>\n",
       "      <td>Adventure Animation Comedy Drama Family Fantasy</td>\n",
       "      <td>95.0</td>\n",
       "      <td>PG</td>\n",
       "      <td>Jun 19, 2015</td>\n",
       "      <td>4158</td>\n",
       "      <td>175000000.0</td>\n",
       "      <td>...</td>\n",
       "      <td>1</td>\n",
       "      <td>0</td>\n",
       "      <td>0</td>\n",
       "      <td>0</td>\n",
       "      <td>0</td>\n",
       "      <td>0</td>\n",
       "      <td>0</td>\n",
       "      <td>1</td>\n",
       "      <td>0</td>\n",
       "      <td>0</td>\n",
       "    </tr>\n",
       "    <tr>\n",
       "      <th>4</th>\n",
       "      <td>Furious 7</td>\n",
       "      <td>353007020</td>\n",
       "      <td>1162040651</td>\n",
       "      <td>1.515048e+09</td>\n",
       "      <td>Action Crime Thriller</td>\n",
       "      <td>137.0</td>\n",
       "      <td>PG-13</td>\n",
       "      <td>Apr 3, 2015</td>\n",
       "      <td>4022</td>\n",
       "      <td>190000000.0</td>\n",
       "      <td>...</td>\n",
       "      <td>0</td>\n",
       "      <td>1</td>\n",
       "      <td>0</td>\n",
       "      <td>0</td>\n",
       "      <td>0</td>\n",
       "      <td>0</td>\n",
       "      <td>1</td>\n",
       "      <td>0</td>\n",
       "      <td>0</td>\n",
       "      <td>0</td>\n",
       "    </tr>\n",
       "  </tbody>\n",
       "</table>\n",
       "<p>5 rows × 24 columns</p>\n",
       "</div>"
      ],
      "text/plain": [
       "               movie title  domestic total gross  international gross  \\\n",
       "0           Jurassic World             652270625           1018130012   \n",
       "1   Star Wars: Episode VII             936662225           1131561399   \n",
       "2  Avengers: Age of Ultron             459005868            943800000   \n",
       "3               Inside Out             356461711            501149463   \n",
       "4                Furious 7             353007020           1162040651   \n",
       "\n",
       "   worldwide gross                                           genres  \\\n",
       "0     1.670401e+09                          Action Adventure Sci-Fi   \n",
       "1     2.068224e+09                          Action Adventure Sci-Fi   \n",
       "2     1.402806e+09                          Action Adventure Sci-Fi   \n",
       "3     8.576112e+08  Adventure Animation Comedy Drama Family Fantasy   \n",
       "4     1.515048e+09                            Action Crime Thriller   \n",
       "\n",
       "   runtime (mins) rating  release date  widest release       budget  ... PG  \\\n",
       "0           124.0  PG-13  Jun 12, 2015            4291  150000000.0  ...  0   \n",
       "1           138.0  PG-13  Dec 18, 2015            4134  245000000.0  ...  0   \n",
       "2           141.0  PG-13   May 1, 2015            4276  250000000.0  ...  0   \n",
       "3            95.0     PG  Jun 19, 2015            4158  175000000.0  ...  1   \n",
       "4           137.0  PG-13   Apr 3, 2015            4022  190000000.0  ...  0   \n",
       "\n",
       "   PG-13  R  Paramount Pictures  Sony Pictures Entertainment (SPE)  \\\n",
       "0      1  0                   0                                  0   \n",
       "1      1  0                   0                                  0   \n",
       "2      1  0                   0                                  0   \n",
       "3      0  0                   0                                  0   \n",
       "4      1  0                   0                                  0   \n",
       "\n",
       "   Twentieth Century Fox  Universal Pictures  \\\n",
       "0                      0                   1   \n",
       "1                      0                   0   \n",
       "2                      0                   0   \n",
       "3                      0                   0   \n",
       "4                      0                   1   \n",
       "\n",
       "   Walt Disney Studios Motion Pictures  Warner Bros.  other  \n",
       "0                                    0             0      0  \n",
       "1                                    1             0      0  \n",
       "2                                    1             0      0  \n",
       "3                                    1             0      0  \n",
       "4                                    0             0      0  \n",
       "\n",
       "[5 rows x 24 columns]"
      ]
     },
     "execution_count": 266,
     "metadata": {},
     "output_type": "execute_result"
    }
   ],
   "source": [
    "movies_df2.head()"
   ]
  },
  {
   "cell_type": "code",
   "execution_count": 267,
   "id": "5893c440",
   "metadata": {},
   "outputs": [
    {
     "data": {
      "text/plain": [
       "fall      285\n",
       "winter    265\n",
       "summer    234\n",
       "spring    216\n",
       "Name: season, dtype: int64"
      ]
     },
     "execution_count": 267,
     "metadata": {},
     "output_type": "execute_result"
    }
   ],
   "source": [
    "season_dict = {'jun':\"summer\",\n",
    "              'jul':\"summer\",\n",
    "              'aug':\"summer\",\n",
    "              'sep':\"fall\",\n",
    "              'oct':'fall',\n",
    "              'nov':'fall',\n",
    "              'dec':'winter',\n",
    "              'jan':'winter',\n",
    "              'feb':'winter',\n",
    "              'mar':'spring',\n",
    "              'apr':'spring',\n",
    "              'may':'spring'}\n",
    "movies_df2['season'] = movies_df2['release_month'].map(season_dict)\n",
    "movies_df2['season'].value_counts()"
   ]
  },
  {
   "cell_type": "code",
   "execution_count": 271,
   "id": "3242b5c0",
   "metadata": {},
   "outputs": [
    {
     "data": {
      "text/html": [
       "<div>\n",
       "<style scoped>\n",
       "    .dataframe tbody tr th:only-of-type {\n",
       "        vertical-align: middle;\n",
       "    }\n",
       "\n",
       "    .dataframe tbody tr th {\n",
       "        vertical-align: top;\n",
       "    }\n",
       "\n",
       "    .dataframe thead th {\n",
       "        text-align: right;\n",
       "    }\n",
       "</style>\n",
       "<table border=\"1\" class=\"dataframe\">\n",
       "  <thead>\n",
       "    <tr style=\"text-align: right;\">\n",
       "      <th></th>\n",
       "      <th>movie title</th>\n",
       "      <th>domestic total gross</th>\n",
       "      <th>international gross</th>\n",
       "      <th>worldwide gross</th>\n",
       "      <th>genres</th>\n",
       "      <th>runtime (mins)</th>\n",
       "      <th>rating</th>\n",
       "      <th>release date</th>\n",
       "      <th>widest release</th>\n",
       "      <th>budget</th>\n",
       "      <th>...</th>\n",
       "      <th>Sony Pictures Entertainment (SPE)</th>\n",
       "      <th>Twentieth Century Fox</th>\n",
       "      <th>Universal Pictures</th>\n",
       "      <th>Walt Disney Studios Motion Pictures</th>\n",
       "      <th>Warner Bros.</th>\n",
       "      <th>other</th>\n",
       "      <th>season</th>\n",
       "      <th>spring</th>\n",
       "      <th>summer</th>\n",
       "      <th>winter</th>\n",
       "    </tr>\n",
       "  </thead>\n",
       "  <tbody>\n",
       "    <tr>\n",
       "      <th>0</th>\n",
       "      <td>Jurassic World</td>\n",
       "      <td>652270625</td>\n",
       "      <td>1018130012</td>\n",
       "      <td>1.670401e+09</td>\n",
       "      <td>Action Adventure Sci-Fi</td>\n",
       "      <td>124.0</td>\n",
       "      <td>PG-13</td>\n",
       "      <td>Jun 12, 2015</td>\n",
       "      <td>4291</td>\n",
       "      <td>150000000.0</td>\n",
       "      <td>...</td>\n",
       "      <td>0</td>\n",
       "      <td>0</td>\n",
       "      <td>1</td>\n",
       "      <td>0</td>\n",
       "      <td>0</td>\n",
       "      <td>0</td>\n",
       "      <td>summer</td>\n",
       "      <td>0</td>\n",
       "      <td>1</td>\n",
       "      <td>0</td>\n",
       "    </tr>\n",
       "    <tr>\n",
       "      <th>1</th>\n",
       "      <td>Star Wars: Episode VII</td>\n",
       "      <td>936662225</td>\n",
       "      <td>1131561399</td>\n",
       "      <td>2.068224e+09</td>\n",
       "      <td>Action Adventure Sci-Fi</td>\n",
       "      <td>138.0</td>\n",
       "      <td>PG-13</td>\n",
       "      <td>Dec 18, 2015</td>\n",
       "      <td>4134</td>\n",
       "      <td>245000000.0</td>\n",
       "      <td>...</td>\n",
       "      <td>0</td>\n",
       "      <td>0</td>\n",
       "      <td>0</td>\n",
       "      <td>1</td>\n",
       "      <td>0</td>\n",
       "      <td>0</td>\n",
       "      <td>winter</td>\n",
       "      <td>0</td>\n",
       "      <td>0</td>\n",
       "      <td>1</td>\n",
       "    </tr>\n",
       "    <tr>\n",
       "      <th>2</th>\n",
       "      <td>Avengers: Age of Ultron</td>\n",
       "      <td>459005868</td>\n",
       "      <td>943800000</td>\n",
       "      <td>1.402806e+09</td>\n",
       "      <td>Action Adventure Sci-Fi</td>\n",
       "      <td>141.0</td>\n",
       "      <td>PG-13</td>\n",
       "      <td>May 1, 2015</td>\n",
       "      <td>4276</td>\n",
       "      <td>250000000.0</td>\n",
       "      <td>...</td>\n",
       "      <td>0</td>\n",
       "      <td>0</td>\n",
       "      <td>0</td>\n",
       "      <td>1</td>\n",
       "      <td>0</td>\n",
       "      <td>0</td>\n",
       "      <td>spring</td>\n",
       "      <td>1</td>\n",
       "      <td>0</td>\n",
       "      <td>0</td>\n",
       "    </tr>\n",
       "    <tr>\n",
       "      <th>3</th>\n",
       "      <td>Inside Out</td>\n",
       "      <td>356461711</td>\n",
       "      <td>501149463</td>\n",
       "      <td>8.576112e+08</td>\n",
       "      <td>Adventure Animation Comedy Drama Family Fantasy</td>\n",
       "      <td>95.0</td>\n",
       "      <td>PG</td>\n",
       "      <td>Jun 19, 2015</td>\n",
       "      <td>4158</td>\n",
       "      <td>175000000.0</td>\n",
       "      <td>...</td>\n",
       "      <td>0</td>\n",
       "      <td>0</td>\n",
       "      <td>0</td>\n",
       "      <td>1</td>\n",
       "      <td>0</td>\n",
       "      <td>0</td>\n",
       "      <td>summer</td>\n",
       "      <td>0</td>\n",
       "      <td>1</td>\n",
       "      <td>0</td>\n",
       "    </tr>\n",
       "    <tr>\n",
       "      <th>4</th>\n",
       "      <td>Furious 7</td>\n",
       "      <td>353007020</td>\n",
       "      <td>1162040651</td>\n",
       "      <td>1.515048e+09</td>\n",
       "      <td>Action Crime Thriller</td>\n",
       "      <td>137.0</td>\n",
       "      <td>PG-13</td>\n",
       "      <td>Apr 3, 2015</td>\n",
       "      <td>4022</td>\n",
       "      <td>190000000.0</td>\n",
       "      <td>...</td>\n",
       "      <td>0</td>\n",
       "      <td>0</td>\n",
       "      <td>1</td>\n",
       "      <td>0</td>\n",
       "      <td>0</td>\n",
       "      <td>0</td>\n",
       "      <td>spring</td>\n",
       "      <td>1</td>\n",
       "      <td>0</td>\n",
       "      <td>0</td>\n",
       "    </tr>\n",
       "  </tbody>\n",
       "</table>\n",
       "<p>5 rows × 28 columns</p>\n",
       "</div>"
      ],
      "text/plain": [
       "               movie title  domestic total gross  international gross  \\\n",
       "0           Jurassic World             652270625           1018130012   \n",
       "1   Star Wars: Episode VII             936662225           1131561399   \n",
       "2  Avengers: Age of Ultron             459005868            943800000   \n",
       "3               Inside Out             356461711            501149463   \n",
       "4                Furious 7             353007020           1162040651   \n",
       "\n",
       "   worldwide gross                                           genres  \\\n",
       "0     1.670401e+09                          Action Adventure Sci-Fi   \n",
       "1     2.068224e+09                          Action Adventure Sci-Fi   \n",
       "2     1.402806e+09                          Action Adventure Sci-Fi   \n",
       "3     8.576112e+08  Adventure Animation Comedy Drama Family Fantasy   \n",
       "4     1.515048e+09                            Action Crime Thriller   \n",
       "\n",
       "   runtime (mins) rating  release date  widest release       budget  ...  \\\n",
       "0           124.0  PG-13  Jun 12, 2015            4291  150000000.0  ...   \n",
       "1           138.0  PG-13  Dec 18, 2015            4134  245000000.0  ...   \n",
       "2           141.0  PG-13   May 1, 2015            4276  250000000.0  ...   \n",
       "3            95.0     PG  Jun 19, 2015            4158  175000000.0  ...   \n",
       "4           137.0  PG-13   Apr 3, 2015            4022  190000000.0  ...   \n",
       "\n",
       "  Sony Pictures Entertainment (SPE)  Twentieth Century Fox Universal Pictures  \\\n",
       "0                                 0                      0                  1   \n",
       "1                                 0                      0                  0   \n",
       "2                                 0                      0                  0   \n",
       "3                                 0                      0                  0   \n",
       "4                                 0                      0                  1   \n",
       "\n",
       "   Walt Disney Studios Motion Pictures  Warner Bros.  other  season  spring  \\\n",
       "0                                    0             0      0  summer       0   \n",
       "1                                    1             0      0  winter       0   \n",
       "2                                    1             0      0  spring       1   \n",
       "3                                    1             0      0  summer       0   \n",
       "4                                    0             0      0  spring       1   \n",
       "\n",
       "   summer  winter  \n",
       "0       1       0  \n",
       "1       0       1  \n",
       "2       0       0  \n",
       "3       1       0  \n",
       "4       0       0  \n",
       "\n",
       "[5 rows x 28 columns]"
      ]
     },
     "execution_count": 271,
     "metadata": {},
     "output_type": "execute_result"
    }
   ],
   "source": [
    "movies_df3 = pd.concat([movies_df2, pd.get_dummies(movies_df2['season'],drop_first=True)],axis = 1)\n",
    "movies_df3.head()"
   ]
  },
  {
   "cell_type": "code",
   "execution_count": 277,
   "id": "bd40935a",
   "metadata": {},
   "outputs": [],
   "source": [
    "with open('BOmojo3.pkl', 'wb') as f:\n",
    "    pickle.dump(movies_df3, f)"
   ]
  },
  {
   "cell_type": "code",
   "execution_count": 142,
   "id": "19517509",
   "metadata": {},
   "outputs": [],
   "source": [
    "with open('BOmojo3.pkl', 'rb') as f:\n",
    "    movies_df3 = pickle.load(f)"
   ]
  },
  {
   "cell_type": "code",
   "execution_count": 143,
   "id": "1e9479fe",
   "metadata": {},
   "outputs": [],
   "source": [
    "movies_df3['comedy'] = movies_df3['genres'].apply(comedy)\n",
    "movies_df3['budget^2'] = movies_df3['budget'] ** 2"
   ]
  },
  {
   "cell_type": "code",
   "execution_count": 144,
   "id": "6cb598bd",
   "metadata": {},
   "outputs": [],
   "source": [
    "movies_df3['disneyG'] = movies_df3['G'] * movies_df3['Walt Disney Studios Motion Pictures']"
   ]
  },
  {
   "cell_type": "code",
   "execution_count": null,
   "id": "66663d09",
   "metadata": {},
   "outputs": [],
   "source": []
  },
  {
   "cell_type": "code",
   "execution_count": 145,
   "id": "41ce5823",
   "metadata": {},
   "outputs": [],
   "source": [
    "X = movies_df3.drop(columns=['domestic total gross',\n",
    "                     'international gross',\n",
    "                     'worldwide gross',\n",
    "                     'genres', 'Warner Bros.', 'Twentieth Century Fox',\n",
    "                     'rating', 'Sony Pictures Entertainment (SPE)', 'Paramount Pictures', 'other',\n",
    "                     'release date', 'movie title', 'widest release','release_month','season','G', 'R',\n",
    "                     'distributor'])\n",
    "y = movies_df3['worldwide gross']\n",
    "X_train, X_test, y_train, y_test = train_test_split(X, y, \n",
    "                                       test_size=.2,     \n",
    "                                       random_state=20)"
   ]
  },
  {
   "cell_type": "code",
   "execution_count": 146,
   "id": "854292fe",
   "metadata": {},
   "outputs": [
    {
     "data": {
      "text/plain": [
       "runtime (mins)                         0\n",
       "budget                                 0\n",
       "action                                 0\n",
       "PG                                     0\n",
       "PG-13                                  0\n",
       "Universal Pictures                     0\n",
       "Walt Disney Studios Motion Pictures    0\n",
       "spring                                 0\n",
       "summer                                 0\n",
       "winter                                 0\n",
       "comedy                                 0\n",
       "budget^2                               0\n",
       "disneyG                                0\n",
       "dtype: int64"
      ]
     },
     "execution_count": 146,
     "metadata": {},
     "output_type": "execute_result"
    }
   ],
   "source": [
    "X.isnull().sum()"
   ]
  },
  {
   "cell_type": "code",
   "execution_count": 147,
   "id": "82f3cb77",
   "metadata": {},
   "outputs": [],
   "source": [
    "X = movies_df3.drop(columns=['domestic total gross',\n",
    "                     'international gross',\n",
    "                     'worldwide gross',\n",
    "                     'genres',\n",
    "                     'rating',\n",
    "                     'release date', 'movie title', 'widest release','release_month','season',\n",
    "                     'distributor'])\n",
    "y = movies_df3['worldwide gross']\n",
    "X_train, X_test, y_train, y_test = train_test_split(X, y, \n",
    "                                       test_size=.2,     \n",
    "                                       random_state=20)"
   ]
  },
  {
   "cell_type": "code",
   "execution_count": 148,
   "id": "a56b1bb6",
   "metadata": {},
   "outputs": [],
   "source": [
    "from sklearn.linear_model import LinearRegression, Lasso, LassoCV, Ridge, RidgeCV, ElasticNetCV, ElasticNet\n",
    "from sklearn.metrics import r2_score\n",
    "from sklearn.model_selection import train_test_split\n",
    "from sklearn.model_selection import cross_val_score\n",
    "from sklearn.preprocessing import StandardScaler\n",
    "import numpy as np"
   ]
  },
  {
   "cell_type": "code",
   "execution_count": 149,
   "id": "7dd92e48",
   "metadata": {},
   "outputs": [],
   "source": [
    "std = StandardScaler()\n",
    "std.fit(X_train)\n",
    "X_tr = std.transform(X_train)\n",
    "X_te = std.transform(X_test)"
   ]
  },
  {
   "cell_type": "code",
   "execution_count": 150,
   "id": "bda14434",
   "metadata": {},
   "outputs": [
    {
     "name": "stdout",
     "output_type": "stream",
     "text": [
      "1382622.1737646593\n",
      "0.5637874981328124\n"
     ]
    }
   ],
   "source": [
    "alphas = 10**np.linspace(-2,8,200)\n",
    "lasso_model = LassoCV(alphas = alphas, cv=5)\n",
    "lasso_model.fit(X_tr, y_train)\n",
    "r_squared_train = lasso_model.score(X_tr, y_train)\n",
    "alpha = lasso_model.alpha_\n",
    "print(alpha)\n",
    "print(r_squared_train)"
   ]
  },
  {
   "cell_type": "code",
   "execution_count": 151,
   "id": "018c61dd",
   "metadata": {},
   "outputs": [
    {
     "name": "stdout",
     "output_type": "stream",
     "text": [
      "0.5637874981328124\n",
      "0.6969870472464622\n",
      "[('runtime (mins)', 39319004.91518213), ('budget', 19331182.719663758), ('action', 16825932.32716003), ('G', -0.0), ('PG', 22735062.187836166), ('PG-13', 21015703.607715204), ('R', -0.0), ('Paramount Pictures', -5443989.449683834), ('Sony Pictures Entertainment (SPE)', 16997223.733883027), ('Twentieth Century Fox', 10697354.35868998), ('Universal Pictures', 30042240.68699674), ('Walt Disney Studios Motion Pictures', 67070851.4700829), ('Warner Bros.', 20397099.52461284), ('other', -23289581.103136726), ('spring', -8887962.88045937), ('summer', 0.0), ('winter', -544329.9316776677), ('comedy', 6983249.484512456), ('budget^2', 117116157.00585741), ('disneyG', -444490.7077242735)]\n"
     ]
    }
   ],
   "source": [
    "lasso = Lasso(alpha = alpha)\n",
    "lasso.fit(X_tr, y_train)\n",
    "train_r_squared = lasso.score(X_tr, y_train)\n",
    "test_r_squared = lasso.score(X_te, y_test)\n",
    "print(train_r_squared)\n",
    "print(test_r_squared)\n",
    "print(list(zip(X_train.columns, lasso.coef_)))"
   ]
  },
  {
   "cell_type": "code",
   "execution_count": 152,
   "id": "1a8df14c",
   "metadata": {},
   "outputs": [],
   "source": [
    "movies_df3['comedy-runtime'] = movies_df3['runtime (mins)'] * movies_df3['comedy']\n",
    "movies_df3['action-runtime'] = movies_df3['runtime (mins)'] * movies_df3['action']"
   ]
  },
  {
   "cell_type": "code",
   "execution_count": 164,
   "id": "ffc95327",
   "metadata": {},
   "outputs": [],
   "source": [
    "X = movies_df3.drop(columns=['domestic total gross',\n",
    "                     'international gross',\n",
    "                     'worldwide gross','spring', 'PG', 'PG-13',\n",
    "                     'genres', 'Warner Bros.', 'Twentieth Century Fox', 'summer', 'winter', 'disneyG',\n",
    "                     'rating', 'Sony Pictures Entertainment (SPE)', 'Paramount Pictures', 'other',\n",
    "                     'release date', 'movie title', 'widest release','release_month','season','G', 'R',\n",
    "                     'distributor'])\n",
    "y = movies_df3['worldwide gross']\n",
    "X_train, X_test, y_train, y_test = train_test_split(X, y, \n",
    "                                       test_size=.2,     \n",
    "                                       random_state=20)"
   ]
  },
  {
   "cell_type": "markdown",
   "id": "2aa74efd",
   "metadata": {},
   "source": [
    "After running a Lasso Regression, several variables are dropped from the model, as they have 0 for coefficients at the level of alpha that minimizes model variance -- these variables are not included in the new X dataframe"
   ]
  },
  {
   "cell_type": "code",
   "execution_count": 165,
   "id": "ee628f88",
   "metadata": {},
   "outputs": [],
   "source": [
    "std = StandardScaler()\n",
    "std.fit(X_train)\n",
    "X_tr = std.transform(X_train)\n",
    "X_te = std.transform(X_test)"
   ]
  },
  {
   "cell_type": "code",
   "execution_count": 166,
   "id": "c327db4c",
   "metadata": {},
   "outputs": [
    {
     "name": "stdout",
     "output_type": "stream",
     "text": [
      "615098.5788580504\n",
      "0.535903721653715\n"
     ]
    }
   ],
   "source": [
    "alphas = 10**np.linspace(-2,8,200)\n",
    "lasso_model = LassoCV(alphas = alphas, cv=5)\n",
    "lasso_model.fit(X_tr, y_train)\n",
    "r_squared_train = lasso_model.score(X_tr, y_train)\n",
    "alpha = lasso_model.alpha_\n",
    "print(alpha)\n",
    "print(r_squared_train)"
   ]
  },
  {
   "cell_type": "code",
   "execution_count": 167,
   "id": "6f53187c",
   "metadata": {},
   "outputs": [
    {
     "name": "stdout",
     "output_type": "stream",
     "text": [
      "0.535903721653715\n",
      "0.7058160859132971\n",
      "[('runtime (mins)', 33820364.137138516), ('budget', 62502833.618077576), ('action', -20191724.016733274), ('Universal Pictures', 33898144.74054506), ('Walt Disney Studios Motion Pictures', 69807308.2568627), ('comedy', 45945968.01737282), ('budget^2', 87026541.9756474), ('comedy-runtime', -30435923.049878303), ('action-runtime', 46077369.26081194)]\n"
     ]
    }
   ],
   "source": [
    "lasso = Lasso(alpha = alpha)\n",
    "lasso.fit(X_tr, y_train)\n",
    "train_r_squared = lasso.score(X_tr, y_train)\n",
    "test_r_squared = lasso.score(X_te, y_test)\n",
    "print(train_r_squared)\n",
    "print(test_r_squared)\n",
    "print(list(zip(X_train.columns, lasso.coef_)))"
   ]
  },
  {
   "cell_type": "markdown",
   "id": "4f90afb8",
   "metadata": {},
   "source": [
    "The finalized Lasso Model performed better on the test data than on the training data, which would suggest that the model isn't overfit.  The overall R^2 value for the model is still quite low though "
   ]
  },
  {
   "cell_type": "code",
   "execution_count": 176,
   "id": "f5de51db",
   "metadata": {},
   "outputs": [
    {
     "name": "stdout",
     "output_type": "stream",
     "text": [
      "0.5714351571074052\n",
      "[('runtime (mins)', 29351259.255240157), ('budget', 63651992.610552125), ('action', -24068069.531370185), ('Universal Pictures', 36084421.00389889), ('Walt Disney Studios Motion Pictures', 72276255.25228652), ('comedy', 53467143.70535015), ('budget^2', 93761732.2174354), ('comedy-runtime', -39388815.5426089), ('action-runtime', 45355300.36482229)]\n"
     ]
    }
   ],
   "source": [
    "lasso = Lasso(alpha = alpha)\n",
    "std.fit(X)\n",
    "Xf = std.transform(X)\n",
    "lasso.fit(Xf, y)\n",
    "final_r_squared = lasso.score(Xf, y)\n",
    "print(final_r_squared)\n",
    "\n",
    "print(list(zip(X.columns, lasso.coef_)))"
   ]
  },
  {
   "cell_type": "markdown",
   "id": "17c69246",
   "metadata": {},
   "source": [
    "With the model finalized, we run it on training and testing data together to get our final coefficients"
   ]
  },
  {
   "cell_type": "code",
   "execution_count": 180,
   "id": "98266388",
   "metadata": {},
   "outputs": [
    {
     "data": {
      "image/png": "[encoded data removed]",
      "text/plain": [
       "<Figure size 720x720 with 1 Axes>"
      ]
     },
     "metadata": {
      "needs_background": "light"
     },
     "output_type": "display_data"
    }
   ],
   "source": [
    "from sklearn.linear_model import lars_path\n",
    "import matplotlib.pyplot as plt\n",
    "\n",
    "alphas = 10**np.linspace(-2,8,200)\n",
    "\n",
    "alphas, _, coefs = lars_path(X_tr, y_train.values, method='lasso')\n",
    "\n",
    "xx = np.sum(np.abs(coefs.T), axis=1)\n",
    "xx /= xx[-1]\n",
    "\n",
    "plt.figure(figsize=(10,10))\n",
    "plt.plot(xx, coefs.T)\n",
    "ymin, ymax = plt.ylim()\n",
    "plt.vlines(xx, ymin, ymax, linestyle='dashed')\n",
    "plt.xlabel('|coef| / max|coef|')\n",
    "plt.ylabel('Coefficients')\n",
    "plt.title('LASSO Path')\n",
    "plt.axis('tight')\n",
    "plt.legend(X_train.columns)\n",
    "plt.savefig('lasso_path1.png')\n",
    "plt.show()\n"
   ]
  },
  {
   "cell_type": "markdown",
   "id": "c2651872",
   "metadata": {},
   "source": [
    "Lasso Path code is taken from Metis Exercises"
   ]
  },
  {
   "cell_type": "code",
   "execution_count": 171,
   "id": "d03f7fab",
   "metadata": {},
   "outputs": [
    {
     "name": "stdout",
     "output_type": "stream",
     "text": [
      "95724302.91295788\n"
     ]
    }
   ],
   "source": [
    "MAE = sum(abs(lasso.predict(X_te) - y_test))/len(y_test)\n",
    "print(MAE)"
   ]
  },
  {
   "cell_type": "markdown",
   "id": "73e51810",
   "metadata": {},
   "source": [
    "The cell above is the Mean Absolute Error that the model achieved on the reserved testing set of data"
   ]
  },
  {
   "cell_type": "code",
   "execution_count": 170,
   "id": "2c37a528",
   "metadata": {},
   "outputs": [
    {
     "data": {
      "image/png": "[encoded data removed]",
      "text/plain": [
       "<Figure size 720x720 with 1 Axes>"
      ]
     },
     "metadata": {
      "needs_background": "light"
     },
     "output_type": "display_data"
    }
   ],
   "source": [
    "import matplotlib.pyplot as plt\n",
    "%matplotlib inline\n",
    "plt.figure(figsize=(10,10))\n",
    "pred = lasso.predict(X_te)\n",
    "res = y_test - pred\n",
    "plt.scatter(pred, res)\n",
    "plt.title(\"Residual plot\")\n",
    "plt.xlabel(\"prediction\")\n",
    "plt.ylabel(\"residuals\")\n",
    "plt.savefig('residuals.png')\n"
   ]
  },
  {
   "cell_type": "code",
   "execution_count": 177,
   "id": "294a2647",
   "metadata": {},
   "outputs": [
    {
     "name": "stdout",
     "output_type": "stream",
     "text": [
      "1637976.1487284245\n",
      "879826.8244403265\n",
      "2463203.395852353\n"
     ]
    }
   ],
   "source": [
    "overall_unscaled = 29351259 / X['runtime (mins)'].std()\n",
    "comedy_unscaled = (-39388815 / X_train['comedy-runtime'].std()) + overall_unscaled\n",
    "action_unscaled = (45355300 / X_train['action-runtime'].std()) + overall_unscaled\n",
    "print(overall_unscaled)\n",
    "print(comedy_unscaled)\n",
    "print(action_unscaled)"
   ]
  },
  {
   "cell_type": "markdown",
   "id": "d0140ea1",
   "metadata": {},
   "source": [
    "The purpose of the above is to find the marginal change in predicted revenue for an increase of one minute in runtime.  Since the features were standardized, the coefficent represents the change in box office for an increase of one standard deviation in each feature.  first we unscale the coefficients by dividing them by the standard deviation of each feature.  Since comedy and action movie predictions will also incporporate the overall runtime feature, we must also add the overall unscaled runtime feature to the genre-specific one to find the overall change in prediction from a one minute increase in runtime"
   ]
  }
 ],
 "metadata": {
  "kernelspec": {
   "display_name": "Python [conda env:metis] *",
   "language": "python",
   "name": "conda-env-metis-py"
  },
  "language_info": {
   "codemirror_mode": {
    "name": "ipython",
    "version": 3
   },
   "file_extension": ".py",
   "mimetype": "text/x-python",
   "name": "python",
   "nbconvert_exporter": "python",
   "pygments_lexer": "ipython3",
   "version": "3.9.9"
  }
 },
 "nbformat": 4,
 "nbformat_minor": 5
}
